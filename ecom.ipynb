{
  "nbformat": 4,
  "nbformat_minor": 0,
  "metadata": {
    "colab": {
      "provenance": []
    },
    "kernelspec": {
      "name": "python3",
      "display_name": "Python 3"
    },
    "language_info": {
      "name": "python"
    }
  },
  "cells": [
    {
      "cell_type": "code",
      "execution_count": null,
      "metadata": {
        "id": "8CAorURB5c07"
      },
      "outputs": [],
      "source": [
        "import pandas as pd\n",
        "import numpy as np\n",
        "import matplotlib.pyplot as plt\n",
        "import seaborn as sns\n",
        "from sklearn.cluster import KMeans, AgglomerativeClustering\n",
        "from sklearn.preprocessing import StandardScaler\n",
        "from sklearn.decomposition import PCA\n",
        "from sklearn.model_selection import train_test_split\n",
        "from sklearn.ensemble import RandomForestClassifier\n",
        "from sklearn.metrics import classification_report, confusion_matrix\n",
        "import hdbscan\n",
        "import os"
      ]
    },
    {
      "cell_type": "code",
      "source": [
        "# Create results directory if it doesn't exist\n",
        "os.makedirs('results', exist_ok=True)"
      ],
      "metadata": {
        "id": "OFZKsFaP5hSm"
      },
      "execution_count": null,
      "outputs": []
    },
    {
      "cell_type": "code",
      "source": [
        "# Load the data\n",
        "df = pd.read_csv('dataset/data.csv', encoding='latin-1')"
      ],
      "metadata": {
        "id": "7rgH6R5n5nvO"
      },
      "execution_count": null,
      "outputs": []
    },
    {
      "cell_type": "code",
      "source": [
        "# Display basic information about the dataset\n",
        "print(df.info())\n",
        "print(df.describe())"
      ],
      "metadata": {
        "id": "VxS1U-by5pss"
      },
      "execution_count": null,
      "outputs": []
    },
    {
      "cell_type": "code",
      "source": [
        "# Check for missing values\n",
        "print(df.isnull().sum())"
      ],
      "metadata": {
        "id": "CHz89kBO5rKb"
      },
      "execution_count": null,
      "outputs": []
    },
    {
      "cell_type": "code",
      "source": [
        "# Convert InvoiceDate to datetime\n",
        "df['InvoiceDate'] = pd.to_datetime(df['InvoiceDate'])"
      ],
      "metadata": {
        "id": "ghql_xLm5t2P"
      },
      "execution_count": null,
      "outputs": []
    },
    {
      "cell_type": "code",
      "source": [
        "# Calculate TotalAmount\n",
        "df['TotalAmount'] = df['Quantity'] * df['UnitPrice']"
      ],
      "metadata": {
        "id": "BPg7trdy5vwj"
      },
      "execution_count": null,
      "outputs": []
    },
    {
      "cell_type": "code",
      "source": [
        "# Feature Engineering\n",
        "last_invoice_date = df['InvoiceDate'].max()\n",
        "rfm = df.groupby('CustomerID').agg({\n",
        "    'InvoiceDate': lambda x: (last_invoice_date - x.max()).days,\n",
        "    'InvoiceNo': 'count',\n",
        "    'TotalAmount': 'sum'\n",
        "})\n",
        "rfm.columns = ['Recency', 'Frequency', 'MonetaryValue']"
      ],
      "metadata": {
        "id": "C00WCWq55xch"
      },
      "execution_count": null,
      "outputs": []
    },
    {
      "cell_type": "code",
      "source": [
        "# Drop any rows with NaN values\n",
        "rfm = rfm.dropna()"
      ],
      "metadata": {
        "id": "BIaYItoT50lD"
      },
      "execution_count": null,
      "outputs": []
    },
    {
      "cell_type": "code",
      "source": [
        "# Exploratory Data Analysis\n",
        "fig, axes = plt.subplots(1, 3, figsize=(20, 5))\n",
        "for i, column in enumerate(['Recency', 'Frequency', 'MonetaryValue']):\n",
        "    sns.histplot(rfm[column], ax=axes[i])\n",
        "    axes[i].set_title(f'Distribution of {column}')\n",
        "plt.tight_layout()\n",
        "plt.savefig('results/rfm_distributions.png')\n",
        "plt.close()"
      ],
      "metadata": {
        "id": "IhqKKng452k4"
      },
      "execution_count": null,
      "outputs": []
    },
    {
      "cell_type": "code",
      "source": [
        "# Correlation analysis\n",
        "plt.figure(figsize=(10, 8))\n",
        "sns.heatmap(rfm.corr(), annot=True, cmap='coolwarm')\n",
        "plt.title('Correlation between RFM variables')\n",
        "plt.savefig('results/rfm_correlation.png')\n",
        "plt.close()"
      ],
      "metadata": {
        "id": "EVf7PGV954yM"
      },
      "execution_count": null,
      "outputs": []
    },
    {
      "cell_type": "code",
      "source": [
        "# Customer Segmentation\n",
        "scaler = StandardScaler()\n",
        "rfm_normalized = scaler.fit_transform(rfm)"
      ],
      "metadata": {
        "id": "nHqtMk8P563_"
      },
      "execution_count": null,
      "outputs": []
    },
    {
      "cell_type": "code",
      "source": [
        "# K-means clustering\n",
        "kmeans = KMeans(n_clusters=4, random_state=42)\n",
        "rfm['KMeansCluster'] = kmeans.fit_predict(rfm_normalized)"
      ],
      "metadata": {
        "id": "q7Ve3Rl158qr"
      },
      "execution_count": null,
      "outputs": []
    },
    {
      "cell_type": "code",
      "source": [
        "# Hierarchical clustering\n",
        "hierarchical = AgglomerativeClustering(n_clusters=4)\n",
        "rfm['HierarchicalCluster'] = hierarchical.fit_predict(rfm_normalized)"
      ],
      "metadata": {
        "id": "sQE3yiHU5_Si"
      },
      "execution_count": null,
      "outputs": []
    },
    {
      "cell_type": "code",
      "source": [
        "# DBSCAN\n",
        "hdbscan_clusterer = hdbscan.HDBSCAN(min_cluster_size=10)\n",
        "rfm['DBSCANCluster'] = hdbscan_clusterer.fit_predict(rfm_normalized)"
      ],
      "metadata": {
        "id": "s5VAp0YB6BD8"
      },
      "execution_count": null,
      "outputs": []
    },
    {
      "cell_type": "code",
      "source": [
        "# Analyze Cluster Results\n",
        "def analyze_clusters(data, cluster_col):\n",
        "    return data.groupby(cluster_col).agg({\n",
        "        'Recency': 'mean',\n",
        "        'Frequency': 'mean',\n",
        "        'MonetaryValue': 'mean'\n",
        "    })\n",
        "kmeans_analysis = analyze_clusters(rfm, 'KMeansCluster')\n",
        "hierarchical_analysis = analyze_clusters(rfm, 'HierarchicalCluster')\n",
        "dbscan_analysis = analyze_clusters(rfm, 'DBSCANCluster')"
      ],
      "metadata": {
        "id": "WpZKIYq-6DHE"
      },
      "execution_count": null,
      "outputs": []
    },
    {
      "cell_type": "code",
      "source": [
        "# Save cluster analyses\n",
        "kmeans_analysis.to_csv('results/kmeans_analysis.csv')\n",
        "hierarchical_analysis.to_csv('results/hierarchical_analysis.csv')\n",
        "dbscan_analysis.to_csv('results/dbscan_analysis.csv')"
      ],
      "metadata": {
        "id": "mObiZX136H2s"
      },
      "execution_count": null,
      "outputs": []
    },
    {
      "cell_type": "code",
      "source": [
        "# Visualize clusters (K-means)\n",
        "pca = PCA(n_components=2)\n",
        "rfm_pca = pca.fit_transform(rfm_normalized)"
      ],
      "metadata": {
        "id": "pPYXmGw76Jbx"
      },
      "execution_count": null,
      "outputs": []
    },
    {
      "cell_type": "code",
      "source": [
        "plt.figure(figsize=(10, 8))\n",
        "scatter = plt.scatter(rfm_pca[:, 0], rfm_pca[:, 1], c=rfm['KMeansCluster'], cmap='viridis')\n",
        "plt.title('Customer Segments (K-means)')\n",
        "plt.colorbar(scatter)\n",
        "plt.savefig('results/kmeans_clusters.png')\n",
        "plt.close()"
      ],
      "metadata": {
        "id": "tP6S_nDf6K_z"
      },
      "execution_count": null,
      "outputs": []
    },
    {
      "cell_type": "code",
      "source": [
        "# Predictive Modeling\n",
        "X = rfm[['Recency', 'Frequency', 'MonetaryValue']]\n",
        "y = rfm['KMeansCluster']"
      ],
      "metadata": {
        "id": "8BwYIWif6M49"
      },
      "execution_count": null,
      "outputs": []
    },
    {
      "cell_type": "code",
      "source": [
        "X_train, X_test, y_train, y_test = train_test_split(X, y, test_size=0.2, random_state=42)"
      ],
      "metadata": {
        "id": "2AS58wiJ6OTA"
      },
      "execution_count": null,
      "outputs": []
    },
    {
      "cell_type": "code",
      "source": [
        "rf_classifier = RandomForestClassifier(n_estimators=100, random_state=42)\n",
        "rf_classifier.fit(X_train, y_train)"
      ],
      "metadata": {
        "id": "IlotSRRi6QKG"
      },
      "execution_count": null,
      "outputs": []
    },
    {
      "cell_type": "code",
      "source": [
        "y_pred = rf_classifier.predict(X_test)"
      ],
      "metadata": {
        "id": "-8I1TIAS6SEo"
      },
      "execution_count": null,
      "outputs": []
    },
    {
      "cell_type": "code",
      "source": [
        "# Classification Report\n",
        "class_report = classification_report(y_test, y_pred)\n",
        "with open('results/classification_report.txt', 'w') as f:\n",
        "    f.write(class_report)"
      ],
      "metadata": {
        "id": "jRRfsz176T43"
      },
      "execution_count": null,
      "outputs": []
    },
    {
      "cell_type": "code",
      "source": [
        "# Confusion Matrix\n",
        "conf_matrix = confusion_matrix(y_test, y_pred)\n",
        "plt.figure(figsize=(10, 8))\n",
        "sns.heatmap(conf_matrix, annot=True, fmt='d', cmap='Blues')\n",
        "plt.title('Confusion Matrix')\n",
        "plt.ylabel('True Label')\n",
        "plt.xlabel('Predicted Label')\n",
        "plt.savefig('results/confusion_matrix.png')\n",
        "plt.close()"
      ],
      "metadata": {
        "id": "-Co_mWW66Vhj"
      },
      "execution_count": null,
      "outputs": []
    },
    {
      "cell_type": "code",
      "source": [
        "# Feature Importance\n",
        "feature_importance = pd.DataFrame({\n",
        "    'feature': X.columns,\n",
        "    'importance': rf_classifier.feature_importances_\n",
        "}).sort_values('importance', ascending=False)"
      ],
      "metadata": {
        "id": "LiE2TmYP6XL1"
      },
      "execution_count": null,
      "outputs": []
    },
    {
      "cell_type": "code",
      "source": [
        "plt.figure(figsize=(10, 6))\n",
        "sns.barplot(x='importance', y='feature', data=feature_importance)\n",
        "plt.title('Feature Importance in Customer Segmentation')\n",
        "plt.savefig('results/feature_importance.png')\n",
        "plt.close()"
      ],
      "metadata": {
        "id": "_-hq--OJ6ZsN"
      },
      "execution_count": null,
      "outputs": []
    },
    {
      "cell_type": "code",
      "source": [
        "# Save feature importance\n",
        "feature_importance.to_csv('results/feature_importance.csv', index=False)"
      ],
      "metadata": {
        "id": "8VLJjs-U6bQ0"
      },
      "execution_count": null,
      "outputs": []
    }
  ]
}